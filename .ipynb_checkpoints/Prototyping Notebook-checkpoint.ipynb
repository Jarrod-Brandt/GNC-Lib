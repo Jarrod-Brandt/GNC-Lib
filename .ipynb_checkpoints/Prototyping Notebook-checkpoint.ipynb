{
 "cells": [
  {
   "cell_type": "code",
   "execution_count": 1,
   "id": "df2a2934",
   "metadata": {},
   "outputs": [
    {
     "data": {
      "text/plain": [
       "<ScienceState solar_system_ephemeris: 'jpl'>"
      ]
     },
     "execution_count": 1,
     "metadata": {},
     "output_type": "execute_result"
    }
   ],
   "source": [
    "import sys\n",
    "import os\n",
    "import random\n",
    "import math\n",
    "from tqdm import tqdm\n",
    "import time\n",
    "\n",
    "\n",
    "import numpy as np \n",
    "from numpy import cos, sin\n",
    "import numpy.linalg as LA\n",
    "import matplotlib\n",
    "import matplotlib.pyplot as plt\n",
    "import plotly.figure_factory as ff\n",
    "import plotly.graph_objects as go\n",
    "\n",
    "import pickle as pkl\n",
    "import PIL.Image as Image\n",
    "\n",
    "\n",
    "\n",
    "from PIL import Image\n",
    "import copy\n",
    "import seaborn as sns\n",
    "from scipy.integrate import odeint\n",
    "from scipy.integrate import solve_ivp\n",
    "\n",
    "\n",
    "\n",
    "\n",
    "import gym\n",
    "from gym import Env, spaces\n",
    "import time\n",
    "import operator\n",
    "\n",
    "\n",
    "\n",
    "from datetime import datetime\n",
    "import navpy as nav\n",
    "\n",
    "\n",
    "from poliastro.bodies import Sun, Earth, Moon\n",
    "from poliastro.ephem import Ephem\n",
    "from poliastro.frames import Planes\n",
    "from poliastro.plotting import StaticOrbitPlotter\n",
    "from poliastro.plotting.misc import plot_solar_system\n",
    "from poliastro.twobody import Orbit\n",
    "from poliastro.util import norm, time_range\n",
    "from poliastro.constants import J2000\n",
    "from poliastro.plotting import OrbitPlotter3D\n",
    "from poliastro.plotting import OrbitPlotter2D\n",
    "from poliastro.twobody.sampling import EpochsArray, TrueAnomalyBounds, EpochBounds\n",
    "from poliastro.maneuver import Maneuver\n",
    "from poliastro.twobody.propagation import propagate, cowell\n",
    "from poliastro import constants\n",
    "\n",
    "\n",
    "\n",
    "from astropy import units as u\n",
    "from astropy.time import Time, TimeDelta\n",
    "from astropy.utils.data import conf\n",
    "from astropy.coordinates import solar_system_ephemeris, EarthLocation\n",
    "from astropy.coordinates import get_body_barycentric, get_body\n",
    "\n",
    "from astroquery.jplhorizons import Horizons\n",
    "\n",
    "conf.dataurl\n",
    "conf.remote_timeout = 10000\n",
    "solar_system_ephemeris.set(\"jpl\")\n"
   ]
  },
  {
   "cell_type": "markdown",
   "id": "45801527",
   "metadata": {},
   "source": [
    "# Initialization"
   ]
  },
  {
   "cell_type": "markdown",
   "id": "8437b160",
   "metadata": {},
   "source": [
    "# Classes"
   ]
  },
  {
   "cell_type": "markdown",
   "id": "b5a50aaf",
   "metadata": {},
   "source": [
    "## Dynamical Environments"
   ]
  },
  {
   "cell_type": "code",
   "execution_count": 24,
   "id": "9dd3ac7c",
   "metadata": {},
   "outputs": [],
   "source": [
    "class TwoBodyPerturbed:\n",
    "    \n",
    "    def __init__(self, primary_mass, env_type):\n",
    "        \n",
    "        self.primary_mass = primary_mass  # Mass of the primary body in the 2BP\n",
    "        self.env_type = env_type          # Determines the equations of motion (Basic, Harmonic Perturbed, Full)\n",
    "        self.satellites = []              # Initialized with no objects\n",
    "        \n",
    "        def Equations_of_Motion(self, satellite):\n",
    "            \n",
    "            if self.env_type == 'Basic':\n",
    "                # these are the most basic equations of motion for the 2BP\n",
    "                \n",
    "                return 'This is case 1'\n",
    "            elif self.env_type == 'Harmonic Perturbed':\n",
    "                 # these equations contain the basic dynamics plus considerations for the 2nd harmonic \n",
    "                 # perturbations (j2)\n",
    "                \n",
    "                return 'This is case 2'\n",
    "            elif self.env_type == 'Full':\n",
    "                 # these equations contain the basic dynamics plus considerations for the 2nd harmonic \n",
    "                 # perturbations (j2) and interactions with the magnetosphere               \n",
    "                \n",
    "                return 'This is case 3'\n",
    "            else:\n",
    "                return 'Invalid equation type selection'\n",
    "            \n",
    "            ax += satellite.acceleration[0]\n",
    "            ay += satellite.acceleration[1]\n",
    "            az += satellite.acceleration[2]\n",
    "            \n",
    "        def add_satellite(self, satellite):\n",
    "            # Add a component to the satellite\n",
    "            self.satellites.append(satellite)\n",
    "        \n",
    "        def propagate_satellites(self, dt)\n",
    "        \n",
    "                t_span = (satellite.time, satellite.time + dt)  \n",
    "                \n",
    "            for satellite in self.satellites:\n",
    "                \n",
    "                x_0 = [satellite.position, satellite.velocity, satellite.STM.flatten()]\n",
    "                \n",
    "                sol = solve_ivp(self.Equations_of_Motion, t_span, x_0, dense_output='True', method = 'LSODA', rtol=1e-12, atol=1e-16 )\n",
    "                \n",
    "                \n",
    "        "
   ]
  },
  {
   "cell_type": "markdown",
   "id": "7e46ffa9",
   "metadata": {},
   "source": [
    "## Spacecraft Objects"
   ]
  },
  {
   "cell_type": "code",
   "execution_count": 25,
   "id": "db05d8f9",
   "metadata": {},
   "outputs": [],
   "source": [
    "class Satellite:\n",
    "    def __init__(self, name, mass, position_vector, velocity_vector):\n",
    "        self.name = name          # Satellite name\n",
    "        self.mass = mass          # Satellite mass in kilograms\n",
    "        self.position = position_vector  # Altitude from Earth's surface in kilometers\n",
    "        self.velocity = velocity_vector  # Orbital velocity in meters per second\n",
    "        self.components = [] \n",
    "        self.STM = np.eye(6)\n",
    "        self.ephemerides = []\n",
    "        self.time = 0\n",
    "        \n",
    "    def display_info(self):\n",
    "        # Display information about the satellite\n",
    "        print(f\"Satellite Name: {self.name}\")\n",
    "        print(f\"Mass: {self.mass} kg\")\n",
    "        print(f\"GEO position: {self.position} km\")\n",
    "        print(f\"GEO Velocity: {self.velocity} km/s\")\n",
    "        print(f\"Components:\")\n",
    "        for component in self.components:\n",
    "            print(f\" - {component.name}\")\n",
    "\n",
    "    def add_component(self, component):\n",
    "        # Add a component to the satellite\n",
    "        self.components.append(component)\n",
    "        "
   ]
  },
  {
   "cell_type": "markdown",
   "id": "7554f061",
   "metadata": {},
   "source": [
    "### Spacecraft Control"
   ]
  },
  {
   "cell_type": "code",
   "execution_count": 17,
   "id": "ea2be6af",
   "metadata": {},
   "outputs": [],
   "source": [
    "\n",
    "        \n",
    "class ReactionWheel:\n",
    "    def __init__(self, name, moment_of_inertia, orientation_vector):\n",
    "        self.name = name                   # Reaction wheel name\n",
    "        self.moment_of_inertia = moment_of_inertia  # Moment of inertia in kg * m^2\n",
    "        self.orientation = orientation_vector\n",
    "        \n",
    "class HallThruster:\n",
    "    def __init__(self, name, max_thrust, efficiency, ionization_efficiency):\n",
    "        self.name = name                    # Hall thruster name\n",
    "        self.max_thrust = max_thrust        # Maximum thrust in Newtons\n",
    "        self.efficiency = efficiency        # Thruster efficiency (percentage)\n",
    "        self.ionization_efficiency = ionization_efficiency  # Ionization efficiency (percentage)\n",
    "        \n",
    "class ImpulsiveThruster:\n",
    "    def __init__(self, name, max_thrust, efficiency, ionization_efficiency):\n",
    "        self.name = name                    # Hall thruster name\n",
    "        self.max_thrust = max_thrust        # Maximum thrust in Newtons\n",
    "        self.efficiency = efficiency        # Thruster efficiency (percentage)\n",
    "        self.ionization_efficiency = ionization_efficiency  # Ionization efficiency (percentage)\n",
    "    def Thrust(self, duration):\n",
    "        \n",
    "class MagnetoTorquer:\n",
    "    def __init__(self, name, moment_of_inertia, orientation_vector):\n",
    "        self.name = name                   # Name\n",
    "\n",
    "\n",
    "        \n"
   ]
  },
  {
   "cell_type": "markdown",
   "id": "edd8a4ac",
   "metadata": {},
   "source": [
    "### Spacecraft Sensors"
   ]
  },
  {
   "cell_type": "code",
   "execution_count": null,
   "id": "9a8e1bd3",
   "metadata": {},
   "outputs": [],
   "source": [
    "class StarTracker:\n",
    "    def __init__(self, name, moment_of_inertia, orientation_vector):\n",
    "        self.name = name\n",
    "        \n",
    "class GPSReceiver:\n",
    "    def __init__(self, name, moment_of_inertia, orientation_vector):\n",
    "        self.name = name\n",
    "\n",
    "class SunSensor:\n",
    "    def __init__(self, name, moment_of_inertia, orientation_vector):\n",
    "        self.name = name\n",
    "        \n",
    "class Magnetometer:\n",
    "    def __init__(self, name, moment_of_inertia, orientation_vector):\n",
    "        self.name = name\n",
    "        \n",
    "class IMU:\n",
    "    def __init__(self, name, moment_of_inertia, orientation_vector):\n",
    "        self.name = name"
   ]
  },
  {
   "cell_type": "markdown",
   "id": "0f5e8271",
   "metadata": {},
   "source": [
    "## Abstracts"
   ]
  },
  {
   "cell_type": "markdown",
   "id": "8238639a",
   "metadata": {},
   "source": [
    "# Functions"
   ]
  },
  {
   "cell_type": "code",
   "execution_count": null,
   "id": "fce5adb9",
   "metadata": {},
   "outputs": [],
   "source": [
    "def ECI_to_THF(vector):\n",
    "    \n",
    "    \n",
    "    \n",
    "def THF_to_ECI(vector):\n",
    "    \n",
    "    "
   ]
  },
  {
   "cell_type": "markdown",
   "id": "d9e3543d",
   "metadata": {},
   "source": [
    "## Guidance"
   ]
  },
  {
   "cell_type": "code",
   "execution_count": null,
   "id": "68e5bedb",
   "metadata": {},
   "outputs": [],
   "source": [
    "#This is for optimization of the trajectory"
   ]
  },
  {
   "cell_type": "markdown",
   "id": "c0abc1e2",
   "metadata": {},
   "source": [
    "## Navigation"
   ]
  },
  {
   "cell_type": "code",
   "execution_count": 27,
   "id": "d9c74211",
   "metadata": {},
   "outputs": [],
   "source": [
    "def ExtendedKalmanFilter(satellite, ephemerides, covariance_matrix):\n",
    "    return 0\n",
    "\n",
    "    "
   ]
  },
  {
   "cell_type": "markdown",
   "id": "94798929",
   "metadata": {},
   "source": [
    "## Control"
   ]
  },
  {
   "cell_type": "code",
   "execution_count": null,
   "id": "225f2ad8",
   "metadata": {},
   "outputs": [],
   "source": [
    "#These are the control laws that govern spacecraft motion\n"
   ]
  },
  {
   "cell_type": "markdown",
   "id": "8a59c03b",
   "metadata": {},
   "source": [
    "# Playground"
   ]
  },
  {
   "cell_type": "code",
   "execution_count": 21,
   "id": "c1b409a9",
   "metadata": {},
   "outputs": [
    {
     "name": "stdout",
     "output_type": "stream",
     "text": [
      "Satellite Name: Proto-Sat\n",
      "Mass: 7000 kg\n",
      "GEO position: [7000, 0, 0] km\n",
      "GEO Velocity: [0, 8, 0] km/s\n",
      "Components:\n"
     ]
    },
    {
     "data": {
      "text/plain": [
       "'rw1'"
      ]
     },
     "execution_count": 21,
     "metadata": {},
     "output_type": "execute_result"
    }
   ],
   "source": [
    "position_vector = [7000, 0, 0]\n",
    "velocity_vector = [0, 8, 0]\n",
    "sat_name = 'Proto-Sat'\n",
    "sat_mass = 7000 \n",
    "sat1 = Satellite(sat_name, sat_mass, position_vector, velocity_vector)\n",
    "sat1.display_info()\n",
    "moment_of_inertia = 5\n",
    "\n",
    "orientation_vector = [1, 0, 0]\n",
    "\n",
    "rw1 = ReactionWheel('rw1', moment_of_inertia, orientation_vector)\n",
    "sat1.add_component(rw1)\n",
    "\n",
    "sat1.components[0].name"
   ]
  },
  {
   "cell_type": "code",
   "execution_count": null,
   "id": "27af1045",
   "metadata": {},
   "outputs": [],
   "source": [
    "#setup environment, including all sensors and controllers for all satellites\n",
    "#ensure propagation is working as intended with equations of motion\n",
    "#ensure thrusting works as intended\n",
    "#ensure reaction wheels work as intended\n",
    "\n",
    "#loop:\n",
    "\n",
    "#check current position and orientation(read sensors)\n",
    "#check nominal position and orientation(that you want to be in)\n",
    "#if there is a difference, use control law to calculate rotations and burns\n",
    "#increment time, impliment burns/rotations, and propagate satellite\n",
    "\n"
   ]
  },
  {
   "cell_type": "code",
   "execution_count": null,
   "id": "a42e9159",
   "metadata": {},
   "outputs": [],
   "source": [
    "#setup environment, including all sensors and controllers for all satellites\n",
    "#add noise as appropriate via the sensors and environment (random guassian)\n",
    "#impliment kalman filter, compare predictions to actual\n",
    "#validate kalman filter"
   ]
  },
  {
   "cell_type": "code",
   "execution_count": null,
   "id": "558c7c5b",
   "metadata": {},
   "outputs": [],
   "source": [
    "\n",
    "#impliment simple control law to station-keep satellite"
   ]
  },
  {
   "cell_type": "code",
   "execution_count": null,
   "id": "d36f6e07",
   "metadata": {},
   "outputs": [],
   "source": [
    "#impliment simple trajectory optimizer\n",
    "#validate performance against theoretical bests"
   ]
  },
  {
   "cell_type": "code",
   "execution_count": null,
   "id": "61006dc8",
   "metadata": {},
   "outputs": [],
   "source": [
    "#impliment control law to use optimized trajectory to reach higher orbit"
   ]
  }
 ],
 "metadata": {
  "kernelspec": {
   "display_name": "kepler",
   "language": "python",
   "name": "myenv"
  },
  "language_info": {
   "codemirror_mode": {
    "name": "ipython",
    "version": 3
   },
   "file_extension": ".py",
   "mimetype": "text/x-python",
   "name": "python",
   "nbconvert_exporter": "python",
   "pygments_lexer": "ipython3",
   "version": "3.9.12"
  },
  "toc": {
   "base_numbering": 1,
   "nav_menu": {},
   "number_sections": true,
   "sideBar": true,
   "skip_h1_title": false,
   "title_cell": "Table of Contents",
   "title_sidebar": "Contents",
   "toc_cell": false,
   "toc_position": {},
   "toc_section_display": true,
   "toc_window_display": false
  }
 },
 "nbformat": 4,
 "nbformat_minor": 5
}
