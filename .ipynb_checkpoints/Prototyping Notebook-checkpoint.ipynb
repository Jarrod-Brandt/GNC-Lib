{
 "cells": [
  {
   "cell_type": "code",
   "execution_count": 1,
   "id": "052896aa",
   "metadata": {},
   "outputs": [
    {
     "data": {
      "text/plain": [
       "<ScienceState solar_system_ephemeris: 'jpl'>"
      ]
     },
     "execution_count": 1,
     "metadata": {},
     "output_type": "execute_result"
    }
   ],
   "source": [
    "import sys\n",
    "import os\n",
    "import random\n",
    "import math\n",
    "from tqdm import tqdm\n",
    "import time\n",
    "\n",
    "\n",
    "import numpy as np \n",
    "from numpy import cos, sin\n",
    "import numpy.linalg as LA\n",
    "import matplotlib\n",
    "import matplotlib.pyplot as plt\n",
    "import plotly.figure_factory as ff\n",
    "import plotly.graph_objects as go\n",
    "\n",
    "import pickle as pkl\n",
    "import PIL.Image as Image\n",
    "\n",
    "\n",
    "\n",
    "from PIL import Image\n",
    "import copy\n",
    "import seaborn as sns\n",
    "from scipy.integrate import odeint\n",
    "from scipy.integrate import solve_ivp\n",
    "\n",
    "\n",
    "\n",
    "\n",
    "import gym\n",
    "from gym import Env, spaces\n",
    "import time\n",
    "import operator\n",
    "\n",
    "\n",
    "\n",
    "from datetime import datetime\n",
    "import navpy as nav\n",
    "\n",
    "\n",
    "from poliastro.bodies import Sun, Earth, Moon\n",
    "from poliastro.ephem import Ephem\n",
    "from poliastro.frames import Planes\n",
    "from poliastro.plotting import StaticOrbitPlotter\n",
    "from poliastro.plotting.misc import plot_solar_system\n",
    "from poliastro.twobody import Orbit\n",
    "from poliastro.util import norm, time_range\n",
    "from poliastro.constants import J2000\n",
    "from poliastro.plotting import OrbitPlotter3D\n",
    "from poliastro.plotting import OrbitPlotter2D\n",
    "from poliastro.twobody.sampling import EpochsArray, TrueAnomalyBounds, EpochBounds\n",
    "from poliastro.maneuver import Maneuver\n",
    "from poliastro.twobody.propagation import propagate, cowell\n",
    "from poliastro import constants\n",
    "\n",
    "\n",
    "\n",
    "from astropy import units as u\n",
    "from astropy.time import Time, TimeDelta\n",
    "from astropy.utils.data import conf\n",
    "from astropy.coordinates import solar_system_ephemeris, EarthLocation\n",
    "from astropy.coordinates import get_body_barycentric, get_body\n",
    "\n",
    "from astroquery.jplhorizons import Horizons\n",
    "\n",
    "conf.dataurl\n",
    "conf.remote_timeout = 10000\n",
    "solar_system_ephemeris.set(\"jpl\")\n"
   ]
  },
  {
   "cell_type": "markdown",
   "id": "2b844a7c",
   "metadata": {},
   "source": [
    "# Initialization"
   ]
  },
  {
   "cell_type": "markdown",
   "id": "4fa94b85",
   "metadata": {},
   "source": [
    "# Classes"
   ]
  },
  {
   "cell_type": "markdown",
   "id": "24314a4d",
   "metadata": {},
   "source": [
    "## Dynamical Environments"
   ]
  },
  {
   "cell_type": "code",
   "execution_count": 35,
   "id": "38fc8223",
   "metadata": {},
   "outputs": [],
   "source": [
    "class TwoBodyPerturbed:\n",
    "    \n",
    "    def __init__(self, primary_mass, primary_radius, env_type):\n",
    "        \n",
    "        self.primary_mass = primary_mass  # Mass of the primary body in the 2BP\n",
    "        self.primary_radius = primary_radius\n",
    "        self.env_type = env_type          # Determines the equations of motion (Basic, Harmonic Perturbed, Full)\n",
    "        self.satellites = []              # Initialized with no objects\n",
    "        \n",
    "        self.mu = primary_mass*G\n",
    "        \n",
    "        def Equations_of_Motion(self, satellite):\n",
    "            \n",
    "            postition = satellite.position\n",
    "            velocity = satellite.velocity\n",
    "            \n",
    "            x,y,z = position\n",
    "            vx,vy,vz = velocity\n",
    "            r3 = (x**2 + y**2 + z**2) ** 1.5\n",
    "            \n",
    "            ax = -mu * x / r3\n",
    "            ay = -mu * y / r3\n",
    "            az = -mu * z / r3  \n",
    "            \n",
    "            if self.env_type == 'Basic':\n",
    "                # these are the most basic equations of motion for the 2BP\n",
    "                pass\n",
    "                            \n",
    "\n",
    "            elif self.env_type == 'Harmonic Perturbed':\n",
    "                 # these equations contain the basic dynamics plus considerations for the 2nd harmonic \n",
    "                 # perturbations (j2)\n",
    "                \n",
    "                r = norm(position)\n",
    "                \n",
    "                factor = (3.0 / 2.0) * mu * J2 * (R**2) / (r**5)\n",
    "                \n",
    "                a_x = 5.0 * z ** 2 / r**2 - 1\n",
    "                a_y = 5.0 * z ** 2 / r**2 - 1\n",
    "                a_z = 5.0 * z ** 2 / r**2 - 3                \n",
    "\n",
    "            elif self.env_type == 'Full':\n",
    "                 # these equations contain the basic dynamics plus considerations for the 2nd harmonic \n",
    "                 # perturbations (j2) and interactions with radiation pressure               \n",
    "                 pass\n",
    "\n",
    "\n",
    "            \n",
    "            ax += satellite.acceleration[0]\n",
    "            ay += satellite.acceleration[1]\n",
    "            az += satellite.acceleration[2]\n",
    "            \n",
    "            dxdt = np.array([vx, vy, vz, ax, ay, az])\n",
    "            return\n",
    "            \n",
    "        def add_satellite(self, satellite):\n",
    "            # Add a component to the satellite\n",
    "            self.satellites.append(satellite)\n",
    "        \n",
    "        def propagate_satellites(self, dt):\n",
    "        \n",
    "            t_span = (satellite.time, satellite.time + dt)  \n",
    "                \n",
    "            for satellite in self.satellites:\n",
    "                \n",
    "                x_0 = [satellite.position, satellite.velocity, satellite.STM.flatten()]\n",
    "                \n",
    "                sol = solve_ivp(self.Equations_of_Motion, t_span, x_0, dense_output='True', method = 'LSODA', rtol=1e-12, atol=1e-16 )\n",
    "                \n",
    "                \n",
    "        "
   ]
  },
  {
   "cell_type": "markdown",
   "id": "f6dc6c89",
   "metadata": {},
   "source": [
    "## Spacecraft Objects"
   ]
  },
  {
   "cell_type": "code",
   "execution_count": 25,
   "id": "18daf570",
   "metadata": {},
   "outputs": [],
   "source": [
    "class Satellite:\n",
    "    def __init__(self, name, mass, position_vector, velocity_vector, orientation_vector):\n",
    "        self.name = name          # Satellite name\n",
    "        self.mass = mass          # kg\n",
    "        self.position = position_vector  # km\n",
    "        self.velocity = velocity_vector  # km/s\n",
    "        self.acceleration = [0, 0, 0]    # km/s^2\n",
    "        self.components = []             # satellite components such as reaction wheels and thrusters\n",
    "        self.STM = np.eye(6)             # initial identity matrix for the state transition matrix\n",
    "        self.ephemerides = []            # empty list to store ephemerides in\n",
    "        self.time = 0                    # initial relative time\n",
    "        self.orientation = orientation_vector\n",
    "        \n",
    "    def display_info(self):\n",
    "        # Display information about the satellite\n",
    "        print(f\"Satellite Name: {self.name}\")\n",
    "        print(f\"Mass: {self.mass} kg\")\n",
    "        print(f\"GEO position: {self.position} km\")\n",
    "        print(f\"GEO Velocity: {self.velocity} km/s\")\n",
    "        print(f\"Components:\")\n",
    "        for component in self.components:\n",
    "            print(f\" - {component.name}\")\n",
    "\n",
    "    def add_component(self, component):\n",
    "        # Add a component to the satellite\n",
    "        self.components.append(component)\n",
    "        "
   ]
  },
  {
   "cell_type": "markdown",
   "id": "9aa3b0dc",
   "metadata": {},
   "source": [
    "### Spacecraft Control"
   ]
  },
  {
   "cell_type": "code",
   "execution_count": 17,
   "id": "13cbfa2d",
   "metadata": {},
   "outputs": [],
   "source": [
    "\n",
    "        \n",
    "class ReactionWheel:\n",
    "    def __init__(self, name, moment_of_inertia, orientation_vector):\n",
    "        self.name = name                   # Reaction wheel name\n",
    "        self.moment_of_inertia = moment_of_inertia  # Moment of inertia in kg * m^2\n",
    "        self.orientation = orientation_vector\n",
    "        \n",
    "class HallThruster:\n",
    "    def __init__(self, name, max_thrust, efficiency, ionization_efficiency):\n",
    "        self.name = name                    # Hall thruster name\n",
    "        self.max_thrust = max_thrust        # Maximum thrust in Newtons\n",
    "        self.efficiency = efficiency        # Thruster efficiency (percentage)\n",
    "        self.ionization_efficiency = ionization_efficiency  # Ionization efficiency (percentage)\n",
    "        \n",
    "class ImpulsiveThruster:\n",
    "    def __init__(self, name, max_thrust, efficiency, ionization_efficiency):\n",
    "        self.name = name                    # Hall thruster name\n",
    "        self.max_thrust = max_thrust        # Maximum thrust in Newtons\n",
    "        self.efficiency = efficiency        # Thruster efficiency (percentage)\n",
    "        self.ionization_efficiency = ionization_efficiency  # Ionization efficiency (percentage)\n",
    "    def Thrust(self, duration):\n",
    "        \n",
    "class MagnetoTorquer:\n",
    "    def __init__(self, name, moment_of_inertia, orientation_vector):\n",
    "        self.name = name                   # Name\n",
    "\n",
    "\n",
    "        \n"
   ]
  },
  {
   "cell_type": "markdown",
   "id": "a9038383",
   "metadata": {},
   "source": [
    "### Spacecraft Sensors"
   ]
  },
  {
   "cell_type": "code",
   "execution_count": null,
   "id": "baed0a73",
   "metadata": {},
   "outputs": [],
   "source": [
    "class StarTracker:\n",
    "    def __init__(self, name, moment_of_inertia, orientation_vector):\n",
    "        self.name = name\n",
    "        \n",
    "class GPSReceiver:\n",
    "    def __init__(self, name, moment_of_inertia, orientation_vector):\n",
    "        self.name = name\n",
    "\n",
    "class SunSensor:\n",
    "    def __init__(self, name, moment_of_inertia, orientation_vector):\n",
    "        self.name = name\n",
    "        \n",
    "class Magnetometer:\n",
    "    def __init__(self, name, moment_of_inertia, orientation_vector):\n",
    "        self.name = name\n",
    "        \n",
    "class IMU:\n",
    "    def __init__(self, name, moment_of_inertia, orientation_vector):\n",
    "        self.name = name"
   ]
  },
  {
   "cell_type": "markdown",
   "id": "dc9993ad",
   "metadata": {},
   "source": [
    "## Abstracts"
   ]
  },
  {
   "cell_type": "markdown",
   "id": "12ff8c22",
   "metadata": {},
   "source": [
    "# Functions"
   ]
  },
  {
   "cell_type": "code",
   "execution_count": null,
   "id": "b977da48",
   "metadata": {},
   "outputs": [],
   "source": [
    "def ECI_to_THF(vector):\n",
    "    \n",
    "    \n",
    "    \n",
    "def THF_to_ECI(vector):\n",
    "    \n",
    "    "
   ]
  },
  {
   "cell_type": "markdown",
   "id": "150476d2",
   "metadata": {},
   "source": [
    "## Guidance"
   ]
  },
  {
   "cell_type": "code",
   "execution_count": null,
   "id": "f6b9664c",
   "metadata": {},
   "outputs": [],
   "source": [
    "#This is for optimization of the trajectory\n",
    "\n",
    "def transfer_strategy_1():\n",
    "    return 0\n",
    "def transfer_strategy_2():\n",
    "    return 0\n",
    "def transfer_strategy_3():\n",
    "    return 0"
   ]
  },
  {
   "cell_type": "markdown",
   "id": "3d396859",
   "metadata": {},
   "source": [
    "## Navigation"
   ]
  },
  {
   "cell_type": "code",
   "execution_count": 27,
   "id": "a9cd14ba",
   "metadata": {},
   "outputs": [],
   "source": [
    "def ExtendedKalmanFilter(satellite, ephemerides, covariance_matrix):\n",
    "    return 0\n",
    "\n",
    "def UnscentedKalmanFilter(satellite, ephemerides, covariance_matrix):\n",
    "    return 0   "
   ]
  },
  {
   "cell_type": "markdown",
   "id": "3cb733a7",
   "metadata": {},
   "source": [
    "## Control"
   ]
  },
  {
   "cell_type": "markdown",
   "id": "971fd96b",
   "metadata": {},
   "source": [
    "### Station Keeping"
   ]
  },
  {
   "cell_type": "code",
   "execution_count": null,
   "id": "5bf73d41",
   "metadata": {},
   "outputs": [],
   "source": [
    "#These are the control laws that govern spacecraft motion\n",
    "def PID_Control():\n",
    "    return 0\n",
    "\n",
    "def LQR_Control():\n",
    "    return 0 "
   ]
  },
  {
   "cell_type": "code",
   "execution_count": null,
   "id": "96f5f466",
   "metadata": {},
   "outputs": [],
   "source": [
    "##"
   ]
  },
  {
   "cell_type": "markdown",
   "id": "c7bd2097",
   "metadata": {},
   "source": [
    "# Playground"
   ]
  },
  {
   "cell_type": "code",
   "execution_count": 31,
   "id": "310004c6",
   "metadata": {},
   "outputs": [
    {
     "name": "stdout",
     "output_type": "stream",
     "text": [
      "Satellite Name: Proto-Sat\n",
      "Mass: 7000 kg\n",
      "GEO position: [7000, 0, 0] km\n",
      "GEO Velocity: [0, 8, 0] km/s\n",
      "Components:\n",
      "Satellite Name: Proto-Sat\n",
      "Mass: 7000 kg\n",
      "GEO position: [7000, 0, 0] km\n",
      "GEO Velocity: [0, 8, 0] km/s\n",
      "Components:\n",
      " - rw1\n",
      " - rw2\n",
      " - rw3\n",
      " - ht1\n"
     ]
    }
   ],
   "source": [
    "#setup environment, including all sensors and controllers for all satellites\n",
    "position_vector = [7000, 0, 0]\n",
    "velocity_vector = [0, 8, 0]\n",
    "orientation_vector = [1, 0, 0]\n",
    "\n",
    "sat_name = 'Proto-Sat'\n",
    "sat_mass = 7000 \n",
    "sat1 = Satellite(sat_name, sat_mass, position_vector, velocity_vector, orientation_vector)\n",
    "\n",
    "sat1.display_info()\n",
    "moment_of_inertia = 5\n",
    "\n",
    "orientation_vector = [1, 0, 0]\n",
    "\n",
    "rw1 = ReactionWheel('rw1', moment_of_inertia, orientation_vector)\n",
    "rw2 = ReactionWheel('rw2', moment_of_inertia, orientation_vector)\n",
    "rw3 = ReactionWheel('rw3', moment_of_inertia, orientation_vector)\n",
    "\n",
    "max_thrust = 1e-7\n",
    "efficiency = .7\n",
    "ionization_efficiency = .8\n",
    "\n",
    "ht1 = HallThruster('ht1', max_thrust, efficiency, ionization_efficiency)\n",
    "\n",
    "components = [rw1, rw2, rw3, ht1]\n",
    "\n",
    "for component in components:\n",
    "    sat1.add_component(component)\n",
    "\n",
    "sat1.display_info()\n",
    "#ensure propagation is working as intended with equations of motion\n",
    "#compare to poliastro for validation\n"
   ]
  },
  {
   "cell_type": "code",
   "execution_count": null,
   "id": "8e1953e8",
   "metadata": {},
   "outputs": [],
   "source": [
    "#setup environment, including all sensors and controllers for all satellites\n",
    "#ensure propagation is working as intended with equations of motion\n",
    "#ensure thrusting works as intended\n",
    "#ensure reaction wheels work as intended\n",
    "\n",
    "#loop:\n",
    "\n",
    "#check current position and orientation(read sensors)\n",
    "#check nominal position and orientation(that you want to be in)\n",
    "#if there is a difference, use control law to calculate rotations and burns\n",
    "#increment time, impliment burns/rotations, and propagate satellite\n",
    "\n"
   ]
  },
  {
   "cell_type": "code",
   "execution_count": null,
   "id": "113eeb50",
   "metadata": {},
   "outputs": [],
   "source": [
    "#setup environment, including all sensors and controllers for all satellites\n",
    "#add noise as appropriate via the sensors and environment (random guassian)\n",
    "#impliment kalman filter, compare predictions to actual\n",
    "#validate kalman filter"
   ]
  },
  {
   "cell_type": "code",
   "execution_count": null,
   "id": "f4a60b6e",
   "metadata": {},
   "outputs": [],
   "source": [
    "\n",
    "#impliment simple control law to station-keep satellite"
   ]
  },
  {
   "cell_type": "code",
   "execution_count": null,
   "id": "e274c127",
   "metadata": {},
   "outputs": [],
   "source": [
    "#impliment simple trajectory optimizer\n",
    "#validate performance against theoretical bests"
   ]
  },
  {
   "cell_type": "code",
   "execution_count": null,
   "id": "e2a8c896",
   "metadata": {},
   "outputs": [],
   "source": [
    "#impliment control law to use optimized trajectory to reach higher orbit"
   ]
  }
 ],
 "metadata": {
  "kernelspec": {
   "display_name": "kepler",
   "language": "python",
   "name": "myenv"
  },
  "language_info": {
   "codemirror_mode": {
    "name": "ipython",
    "version": 3
   },
   "file_extension": ".py",
   "mimetype": "text/x-python",
   "name": "python",
   "nbconvert_exporter": "python",
   "pygments_lexer": "ipython3",
   "version": "3.9.12"
  },
  "toc": {
   "base_numbering": 1,
   "nav_menu": {},
   "number_sections": true,
   "sideBar": true,
   "skip_h1_title": false,
   "title_cell": "Table of Contents",
   "title_sidebar": "Contents",
   "toc_cell": false,
   "toc_position": {},
   "toc_section_display": true,
   "toc_window_display": false
  }
 },
 "nbformat": 4,
 "nbformat_minor": 5
}
